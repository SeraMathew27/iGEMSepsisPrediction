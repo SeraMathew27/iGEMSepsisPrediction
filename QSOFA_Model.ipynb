{
 "cells": [
  {
   "cell_type": "code",
   "execution_count": null,
   "metadata": {
    "tags": []
   },
   "outputs": [],
   "source": [
    "# How can we adjust this for real time monitoring (Physician inputs values, then starts reading biomarker concentration) \n",
    "# How are we collecting other data scores in real time? Would be good to make this autonomous (Always collect data in teh background, when qSOFA score is met, then report result?))\n",
    "# Add additional clinical data\n",
    "mental_status = 0 # altered mental state according to Glasgow Coma Scale\n",
    "rr = 0 # respiratory rate\n",
    "sbp = 0 # systolic blood pressure\n",
    "\n",
    "print(\"Altered Mental Status:\")\n",
    "if int(input())<15: \n",
    "    mental_status = 1\n",
    "\n",
    "print(\"Respiratory Rate:\")\n",
    "if int(input())>=22: \n",
    "    rr = 1\n",
    "\n",
    "print(\"Systolic Blood Pressure:\")\n",
    "if int(input())<=100: \n",
    "    sbp = 1\n",
    "    \n",
    "mortality = rr + sbp +  mental_status\n",
    "if mortality > 1:\n",
    "    print(\"High Risk. Infection should be considered if not already.\")\n",
    "else:\n",
    "    print(\"Low Risk\")\n",
    "\n",
    "\n",
    "# making dataframes to store all inputs\n",
    "il1b_resistance_list = []\n",
    "# il6_resistance_list = []\n",
    "# tnfa_resistance_list = []\n",
    "# crp_resistance_list = []\n",
    "# lactoferrin_resistance_list = [] "
   ]
  },
  {
   "cell_type": "markdown",
   "metadata": {},
   "source": [
    "## Here, enter your potentiostat data formatted as three columns in an excel file: Time, Potential, current"
   ]
  },
  {
   "cell_type": "code",
   "execution_count": null,
   "metadata": {
    "tags": []
   },
   "outputs": [],
   "source": [
    "# This is where you would input the electrical properties measured by your sensor. \n",
    "# A future direction would be to modify the code to accept continuous input.\n",
    "\n",
    "import pandas as pd\n",
    "list_of_vals1 = pd.read_excel(\"IL-1b_mock_potentiostat_data.xlsx\") # file containing electrical measurements made by \n",
    "# your device when exposed to solution (sweat, blood, etc.) containing biomarker. Here we use an example data set taken \n",
    "# for the first 99 time points on 125nM IL-1beta solution, then for the next 99 time points on 250nM IL-beta solution, to\n",
    "# show proof of concept: that the Resistance measured changes with changing concentration.  \n",
    "list_of_vals1.columns = [\"Time\", \"V\", \"I\"]\n",
    "\n",
    "#converting to resistance using Ohm's law\n",
    "for i in range(len(list_of_vals1[\"V\"].values)):\n",
    "    il1b_resistance = (list_of_vals1[\"V\"].values[i])/(list_of_vals1[\"I\"].values[i]) # Ohm's Law says that Resistance is \n",
    "    # the dividend of Voltage and Current, which are measured by our potentiostat\n",
    "    il1b_resistance_list.append(il1b_resistance)\n",
    "    \n",
    "# use the same code as above for all your biomarkers of interest"
   ]
  },
  {
   "cell_type": "code",
   "execution_count": null,
   "metadata": {
    "tags": []
   },
   "outputs": [],
   "source": [
    "# making dataframes to store all outputs\n",
    "il1b_sweat_list = []\n",
    "# il6_sweat_list = []\n",
    "# tnfa_sweat_list = []\n",
    "# crp_sweat_list = []\n",
    "# lactoferrin_sweat_list = []"
   ]
  },
  {
   "cell_type": "markdown",
   "metadata": {},
   "source": [
    "Due to experimental errors, the data we have for Concentration of biomarker and the Resistance measured by our sensor does not fit very well to any equation. For now, we use the equation obtained from performing exponential regression on very poor data for CRP for the purpose of an example equation; this is better than simply using a dummy equation. An exponetial is the kind of equation we expect according to Cai, H.; Lee T.M.; Hsing, I. Label-free protein recognition using an aptamer-based impedance measurement assay. Sensors and Actuators B: Chemical. 2006, 114, 433-437. DOI: 10.1016/j.snb.2005.06.017\n",
    "\n",
    "Didn't use a blank?"
   ]
  },
  {
   "cell_type": "code",
   "execution_count": null,
   "metadata": {
    "tags": []
   },
   "outputs": [],
   "source": [
    "# this part generates the sweat value for each biomarker given the resistance\n",
    "\n",
    "from numpy import exp\n",
    "## !!!! HELP !!! \n",
    "il1b_sweat_list = [84.06 + 1.01*10**(-8)*exp(0.005*i + 19.3) for i in il1b_resistance_list] # outputs a Sweat Concentration value for\n",
    "# every Resistance value in il1b_resistance_list"
   ]
  },
  {
   "cell_type": "code",
   "execution_count": null,
   "metadata": {
    "tags": []
   },
   "outputs": [],
   "source": [
    "# making dataframes to store all outputs\n",
    "il1b_plasma_list = []\n",
    "# il6_plasma_list = []\n",
    "# tnfa_plasma_list = []\n",
    "# crp_plasma_list = []\n",
    "# lactoferrin_plasma_list = []"
   ]
  },
  {
   "cell_type": "code",
   "execution_count": null,
   "metadata": {
    "tags": []
   },
   "outputs": [],
   "source": [
    "# this part converts the sweat concentration to plasma concentration \n",
    "\n",
    "# here we can change the equations to fit for any disease/biomarker we need as long as we have equations that convert \n",
    "# sweat concentration to blood concentration\n",
    "    \n",
    "# for all our biomarker, the equations are linear, so they take this form:\n",
    "# plasma concentration = a + b * (sweat concentration)\n",
    "# more equations can be added for more biomarkers or change the existing ones\n",
    "il1b_plasma_list = [-0.859121099839232 + 0.9114676655388801*i for i in il1b_sweat_list] # outputs a Plasma Concentration for every Sweat Concentration in il1b_sweat_list \n",
    "# il6_plasma_list = [-0.36 + 0.79*i for i in il6_sweat_list]\n",
    "# tnfa_plasma_list = [-0.3610625115091586 + 0.7903607861416451*i for i in tnfa_sweat_list]\n",
    "# crp_plasma_list = [1*i for i in crp_sweat_list]\n",
    "# lactoferrin_plasma_list = [1*i for i in lactoferrin_plasma_list]"
   ]
  },
  {
   "cell_type": "code",
   "execution_count": null,
   "metadata": {
    "tags": []
   },
   "outputs": [],
   "source": [
    "# making dataframes to store Serum outputs\n",
    "# crp_serum_list = []\n",
    "# lactoferrin_serum_list = []"
   ]
  },
  {
   "cell_type": "code",
   "execution_count": null,
   "metadata": {
    "tags": []
   },
   "outputs": [],
   "source": [
    "# this section optional depending on if cutoffs for your disease are reported in plasma or serum\n",
    "\n",
    "# this part converts the plasma concentration to serum concentration for CRP and Lactoferrin, the two biomarkers for which \n",
    "# the diagnostic cutoffs for sepsis are reported in the literature in Sepsis\n",
    "\n",
    "\n",
    "\n",
    "# multiplies each plasma value of CRP by 1, the ratio of CRP between serum and plasma according to \n",
    "# Aziz, N., et al. Analytical Performance of a Highly Sensitive C-Reactive Protein-Based Immunoassay and the Effects \n",
    "# of Laboratory Variables on Levels of Protein in Blood. Clinical and Diagnostic Laboratory Immunology. 2003, 83 (9), \n",
    "# 652-657. DOI: 10.1128/cdli.10.4.652-657.2003\n",
    "\n",
    "# crp_serum_list = [i*1 for i in crp_plasma_list]  \n",
    "    \n",
    "    \n",
    "    \n",
    "# multiplies each plasma value of Lactoferrin by 1.41, the ratio of Lactoferrin from plasma to serum \n",
    "# according to the ratio of the means of data in the control patients in Barthe, C.; Galabert, C.; \n",
    "# Guy-Crotte, O.; Figarella, C. Plasma and serum lactoferrin levels in cystic fibrosis. Relationship with the presence \n",
    "# of cystic fibrosis protein. Clinica Chimica Acta. 1989, 181, 183-188. DOI: 10.1016/0009-8981(89)90186-1     \n",
    "\n",
    "# lactoferrin_serum_list = [1.41*i for i in lactoferrin_plasma_list]"
   ]
  },
  {
   "cell_type": "code",
   "execution_count": null,
   "metadata": {
    "tags": []
   },
   "outputs": [],
   "source": [
    "#PLOTTING ALL VARIABLES\n",
    "import matplotlib.pyplot as plt\n",
    "plot1 = plt.plot(il1b_plasma_list, label='IL1-beta')\n",
    "# plot2 = plt.plot(il6_plasma_list, label='IL6')\n",
    "# plot3 = plt.plot(tnfa_plasma_list, label='TNf-alpha')\n",
    "# plot4 = plt.plot(crp_serum_list,label='CRP')\n",
    "# plot5 = plt.plot(lactoferrin_serum_list,label='Lactoferrin')\n",
    "plt.legend(bbox_to_anchor=(1.05, 1), loc='upper left', borderaxespad=0.)\n",
    "plt.title('Mock-up of Biomarker Levels over Time')\n",
    "plt.ylabel('Plasma Concentration (pg/mL)')\n",
    "plt.xlabel('Time (s)')\n",
    "# plt.xticks([]) # Source: Evans, N. Hide tick label values but keep axis labels. https://stackoverflow.com/questions/37039685/hide-tick-label-values-but-keep-axis-labels (accessed 2021-10-08).\n",
    "# plt.yticks([])"
   ]
  },
  {
   "cell_type": "code",
   "execution_count": null,
   "metadata": {
    "tags": []
   },
   "outputs": [],
   "source": [
    "# Add disease name here\n",
    "disease_name = \"Sepsis\" # for our project"
   ]
  },
  {
   "cell_type": "code",
   "execution_count": null,
   "metadata": {
    "tags": []
   },
   "outputs": [],
   "source": [
    "# a \"Sepsis Risk exists\" output means that there is a value above the threshold reported in the literature (see wiki \n",
    "# writeup for sources) \n",
    "for val in il1b_plasma_list:\n",
    "    if val >= 0.000157: # diagnostic cutoff for IL1-beta converted to nM. See wiki for explanation and details. Input your \n",
    "        # biomarker's accepted cutoff for your disease of choice\n",
    "        print(f\" {disease_name} risk exists according to IL-1beta\")\n",
    "# for val in il_6_list:\n",
    "#     if val >= 0.00076:\n",
    "#         print(f\"{disease_name} risk exists according to IL-6\")\n",
    "# for val in tnf_a_list:\n",
    "#     if val >= 0.00029:\n",
    "#         print(f\"{disease_name} risk exists according to TNF-alpha\")\n",
    "# for val in crp_list:\n",
    "#     if val >= .67:\n",
    "#         print(f\"{disease_name} risk exists according to CRP\")\n",
    "# for val in lactoferrin_list:\n",
    "#     if val >= 8.44:\n",
    "#         print(f\"{disease_name} risk exists according to Lactoferrin\")"
   ]
  },
  {
   "cell_type": "markdown",
   "metadata": {},
   "source": [
    "**Mortality** Using qSOFA"
   ]
  },
  {
   "cell_type": "code",
   "execution_count": null,
   "metadata": {
    "tags": []
   },
   "outputs": [],
   "source": [
    "# Add additional clinical data\n",
    "mental_status = 0 # altered mental state according to Glasgow Coma Scale\n",
    "rr = 0 # respiratory rate\n",
    "sbp = 0 # systolic blood pressure\n",
    "\n",
    "print(\"Altered Mental Status:\")\n",
    "if int(input())<15: \n",
    "    mental_status = 1\n",
    "\n",
    "print(\"Respiratory Rate:\")\n",
    "if int(input())>=22: \n",
    "    rr = 1\n",
    "\n",
    "print(\"Systolic Blood Pressure:\")\n",
    "if int(input())<=100: \n",
    "    sbp = 1\n",
    "    \n",
    "mortality = rr + sbp +  mental_status\n",
    "if mortality > 1:\n",
    "    print(\"High Risk. Infection should be considered if not already.\")\n",
    "else:\n",
    "    print(\"Low Risk\")"
   ]
  },
  {
   "cell_type": "code",
   "execution_count": null,
   "metadata": {},
   "outputs": [],
   "source": []
  }
 ],
 "metadata": {
  "kernelspec": {
   "display_name": "Python 3.9 (py39)",
   "language": "python",
   "name": "py39"
  },
  "language_info": {
   "codemirror_mode": {
    "name": "ipython",
    "version": 3
   },
   "file_extension": ".py",
   "mimetype": "text/x-python",
   "name": "python",
   "nbconvert_exporter": "python",
   "pygments_lexer": "ipython3",
   "version": "3.9.13"
  }
 },
 "nbformat": 4,
 "nbformat_minor": 4
}
